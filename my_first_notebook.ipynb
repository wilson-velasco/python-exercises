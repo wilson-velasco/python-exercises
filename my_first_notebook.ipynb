{
 "cells": [
  {
   "cell_type": "code",
   "execution_count": 2,
   "id": "1fd583fc",
   "metadata": {},
   "outputs": [
    {
     "name": "stdout",
     "output_type": "stream",
     "text": [
      "Hello, World!\n",
      "TGIF, am I right fellas?\n"
     ]
    }
   ],
   "source": [
    "print('Hello, World!')\n",
    "greeting = 'TGIF, am I right fellas?'\n",
    "print(greeting)"
   ]
  },
  {
   "cell_type": "code",
   "execution_count": null,
   "id": "2e4e3855",
   "metadata": {},
   "outputs": [],
   "source": [
    "#hashtags are used for notes"
   ]
  },
  {
   "cell_type": "code",
   "execution_count": null,
   "id": "14161caf",
   "metadata": {},
   "outputs": [],
   "source": [
    "#when not in a cell, pressing B will create a new cell below, A will create one above"
   ]
  },
  {
   "cell_type": "code",
   "execution_count": null,
   "id": "8e768ee8",
   "metadata": {},
   "outputs": [],
   "source": [
    "#to delete a cell, exit the cell and press D twice"
   ]
  }
 ],
 "metadata": {
  "kernelspec": {
   "display_name": "Python 3 (ipykernel)",
   "language": "python",
   "name": "python3"
  },
  "language_info": {
   "codemirror_mode": {
    "name": "ipython",
    "version": 3
   },
   "file_extension": ".py",
   "mimetype": "text/x-python",
   "name": "python",
   "nbconvert_exporter": "python",
   "pygments_lexer": "ipython3",
   "version": "3.9.13"
  }
 },
 "nbformat": 4,
 "nbformat_minor": 5
}
