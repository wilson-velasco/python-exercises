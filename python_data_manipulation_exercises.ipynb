{
 "cells": [
  {
   "cell_type": "markdown",
   "id": "1bc83619",
   "metadata": {},
   "source": [
    "The following questions reference the students data structure below. Write the python code to answer the following questions:"
   ]
  },
  {
   "cell_type": "code",
   "execution_count": 5,
   "id": "99c24482",
   "metadata": {},
   "outputs": [
    {
     "data": {
      "text/plain": [
       "14"
      ]
     },
     "execution_count": 5,
     "metadata": {},
     "output_type": "execute_result"
    }
   ],
   "source": [
    "# 1. How many students are there?\n",
    "\n",
    "len(students)"
   ]
  },
  {
   "cell_type": "code",
   "execution_count": 26,
   "id": "b25bd3f5",
   "metadata": {},
   "outputs": [
    {
     "name": "stdout",
     "output_type": "stream",
     "text": [
      "Students' Coffee Preferences\n",
      "Light: 3\n",
      "Medium: 6\n",
      "Dark: 5\n"
     ]
    }
   ],
   "source": [
    "# 2. How many students prefer light coffee? For each type of coffee roast?\n",
    "\n",
    "light_preference = 0\n",
    "medium_preference = 0\n",
    "dark_preference = 0\n",
    "\n",
    "for student in students:\n",
    "\n",
    "    if student.get('coffee_preference') == 'light':\n",
    "        light_preference += 1\n",
    "    if student.get('coffee_preference') == 'medium':\n",
    "        medium_preference += 1\n",
    "    if student.get('coffee_preference') == 'dark':\n",
    "        dark_preference += 1\n",
    "\n",
    "print('Students\\' Coffee Preferences')\n",
    "print('Light: ' + str(light_preference))\n",
    "print('Medium: ' + str(medium_preference))\n",
    "print('Dark: ' + str(dark_preference))"
   ]
  },
  {
   "cell_type": "code",
   "execution_count": 128,
   "id": "008330a8",
   "metadata": {},
   "outputs": [
    {
     "name": "stdout",
     "output_type": "stream",
     "text": [
      "{'dog', 'cat', 'horse'}\n",
      "Count of dog : 3\n",
      "Count of cat : 11\n",
      "Count of horse : 4\n"
     ]
    }
   ],
   "source": [
    "# 3. How many types of each pet are there?\n",
    "\n",
    "species_list = []\n",
    "\n",
    "for stud in students:\n",
    "    if len(stud['pets']) > 0: # This is how you skip null values in 'pets'\n",
    "        for pet in stud['pets']:\n",
    "#            if pet['species'] not in species_list:\n",
    "            species_list.append(pet['species'])\n",
    "\n",
    "print(set(species_list))\n",
    "\n",
    "for species in set(species_list):\n",
    "    print('Count of', str(species), ':', str(species_list.count(species)))\n"
   ]
  },
  {
   "cell_type": "code",
   "execution_count": 50,
   "id": "601951f1",
   "metadata": {},
   "outputs": [
    {
     "name": "stdout",
     "output_type": "stream",
     "text": [
      "Ada Lovelace 78.5\n",
      "Thomas Bayes 83.5\n",
      "Marie Curie 73.25\n",
      "Grace Hopper 78.5\n",
      "Alan Turing 81.5\n",
      "Rosalind Franklin 80.75\n",
      "Elizabeth Blackwell 84.5\n",
      "Rene Descartes 88.75\n",
      "Ahmed Zewail 88.75\n",
      "Chien-Shiung Wu 82.5\n",
      "William Sanford Nye 81.5\n",
      "Carl Sagan 91.0\n",
      "Jane Goodall 79.0\n",
      "Richard Feynman 89.0\n"
     ]
    }
   ],
   "source": [
    "# 4. What is each student's grade average?\n",
    "\n",
    "for student in students:\n",
    "    print(student.get('student'), sum(student.get('grades'))/len(student.get('grades')))"
   ]
  },
  {
   "cell_type": "code",
   "execution_count": 51,
   "id": "48d03e3a",
   "metadata": {},
   "outputs": [
    {
     "name": "stdout",
     "output_type": "stream",
     "text": [
      "Ada Lovelace 4\n",
      "Thomas Bayes 4\n",
      "Marie Curie 4\n",
      "Grace Hopper 4\n",
      "Alan Turing 4\n",
      "Rosalind Franklin 4\n",
      "Elizabeth Blackwell 4\n",
      "Rene Descartes 4\n",
      "Ahmed Zewail 4\n",
      "Chien-Shiung Wu 4\n",
      "William Sanford Nye 4\n",
      "Carl Sagan 4\n",
      "Jane Goodall 4\n",
      "Richard Feynman 4\n"
     ]
    }
   ],
   "source": [
    "# 5. How many grades does each student have? Do they all have the same number of grades?\n",
    "\n",
    "for student in students:\n",
    "    print(student.get('student'), len(student.get('grades')))"
   ]
  },
  {
   "cell_type": "code",
   "execution_count": 52,
   "id": "3f0bf34e",
   "metadata": {},
   "outputs": [
    {
     "name": "stdout",
     "output_type": "stream",
     "text": [
      "Ada Lovelace 1\n",
      "Thomas Bayes 0\n",
      "Marie Curie 1\n",
      "Grace Hopper 2\n",
      "Alan Turing 3\n",
      "Rosalind Franklin 0\n",
      "Elizabeth Blackwell 1\n",
      "Rene Descartes 2\n",
      "Ahmed Zewail 2\n",
      "Chien-Shiung Wu 1\n",
      "William Sanford Nye 2\n",
      "Carl Sagan 1\n",
      "Jane Goodall 1\n",
      "Richard Feynman 1\n"
     ]
    }
   ],
   "source": [
    "# 6. How many pets does each student have?\n",
    "\n",
    "for student in students:\n",
    "    print(student.get('student'), len(student.get('pets')))"
   ]
  },
  {
   "cell_type": "code",
   "execution_count": 6,
   "id": "a5735ad1",
   "metadata": {},
   "outputs": [
    {
     "name": "stdout",
     "output_type": "stream",
     "text": [
      "web development 7\n",
      "data science 7\n"
     ]
    }
   ],
   "source": [
    "# 7. How many students are in web development? data science?\n",
    "\n",
    "classes = []\n",
    "\n",
    "for stud in students:\n",
    "    classes.append(stud['course'])\n",
    "\n",
    "for course in set(classes):\n",
    "    print(course, classes.count(course))"
   ]
  },
  {
   "cell_type": "code",
   "execution_count": 8,
   "id": "b828f5ab",
   "metadata": {},
   "outputs": [
    {
     "data": {
      "text/plain": [
       "1.29"
      ]
     },
     "execution_count": 8,
     "metadata": {},
     "output_type": "execute_result"
    }
   ],
   "source": [
    "# 8. What is the average number of pets for students in web development?\n",
    "\n",
    "web_student_count = 0\n",
    "web_pet_count = 0\n",
    "\n",
    "for stud in students:\n",
    "    if stud['course'] == 'web development':\n",
    "        web_student_count += 1\n",
    "    if (stud['course'] == 'web development') and (len(stud['pets']) > 0):\n",
    "        for pet in stud['pets']:\n",
    "            web_pet_count += 1\n",
    "\n",
    "web_student_avg_pets = round((web_pet_count / web_student_count), 2)\n",
    "\n",
    "web_student_avg_pets"
   ]
  },
  {
   "cell_type": "code",
   "execution_count": 11,
   "id": "edde5441",
   "metadata": {},
   "outputs": [
    {
     "data": {
      "text/plain": [
       "5.44"
      ]
     },
     "execution_count": 11,
     "metadata": {},
     "output_type": "execute_result"
    }
   ],
   "source": [
    "# 9. What is the average pet age for students in data science?\n",
    "\n",
    "pet_ages = []\n",
    "\n",
    "for stud in students:\n",
    "    if stud['course'] == 'data science':\n",
    "        if len(stud['pets']) > 0:\n",
    "            for pet in stud['pets']:\n",
    "                pet_ages.append(pet['age'])\n",
    "\n",
    "avg_pet_age = round((sum(pet_ages) / len(pet_ages)), 2)\n",
    "avg_pet_age"
   ]
  },
  {
   "cell_type": "code",
   "execution_count": 20,
   "id": "c44ff873",
   "metadata": {},
   "outputs": [
    {
     "name": "stdout",
     "output_type": "stream",
     "text": [
      "Count of dark : 3\n",
      "Count of medium : 4\n",
      "medium 4\n"
     ]
    }
   ],
   "source": [
    "# 10. What is most frequent coffee preference for data science students?\n",
    "\n",
    "ds_coffee_pref = []\n",
    "\n",
    "for stud in students:\n",
    "    if stud['course'] == 'data science':\n",
    "        ds_coffee_pref.append(stud['coffee_preference'])\n",
    "\n",
    "for cof in set(ds_coffee_pref):\n",
    "    print('Count of', cof, ':', ds_coffee_pref.count(cof))\n",
    "    \n",
    "# to just give the answer to the question above, as opposed to counts of all preferences, see below:\n",
    "\n",
    "print(\n",
    "max(ds_coffee_pref, key=ds_coffee_pref.count),\n",
    "ds_coffee_pref.count(max(ds_coffee_pref, key=ds_coffee_pref.count))\n",
    ")"
   ]
  },
  {
   "cell_type": "code",
   "execution_count": 33,
   "id": "be731bac",
   "metadata": {},
   "outputs": [
    {
     "name": "stdout",
     "output_type": "stream",
     "text": [
      "Count of dark : 2\n",
      "Count of medium : 2\n",
      "Count of light : 3\n",
      "['light', 'light', 'dark', 'dark', 'medium', 'light', 'medium']\n",
      "dark 2\n"
     ]
    }
   ],
   "source": [
    "# 11. What is the least frequent coffee preference for web development students?\n",
    "\n",
    "wd_coffee_pref = []\n",
    "\n",
    "for stud in students:\n",
    "    if stud['course'] == 'web development':\n",
    "        wd_coffee_pref.append(stud['coffee_preference'])\n",
    "\n",
    "for cof in set(wd_coffee_pref):\n",
    "    print('Count of', cof, ':', wd_coffee_pref.count(cof))\n",
    "\n",
    "print(wd_coffee_pref)\n",
    "    \n",
    "print(\n",
    "min(wd_coffee_pref, key=wd_coffee_pref.count),\n",
    "wd_coffee_pref.count(min(wd_coffee_pref, key=wd_coffee_pref.count))\n",
    ")"
   ]
  },
  {
   "cell_type": "code",
   "execution_count": 36,
   "id": "3667c214",
   "metadata": {},
   "outputs": [
    {
     "data": {
      "text/plain": [
       "83.8"
      ]
     },
     "execution_count": 36,
     "metadata": {},
     "output_type": "execute_result"
    }
   ],
   "source": [
    "# 12. What is the average grade for students with at least 2 pets?\n",
    "\n",
    "grade_2_pets = []\n",
    "\n",
    "for stud in students:\n",
    "    if len(stud['pets']) >= 2:\n",
    "        grade_2_pets.append((sum(stud['grades']))/len(stud['grades']))\n",
    "\n",
    "sum(grade_2_pets) / len(grade_2_pets)"
   ]
  },
  {
   "cell_type": "code",
   "execution_count": 37,
   "id": "7c168c9c",
   "metadata": {},
   "outputs": [
    {
     "data": {
      "text/plain": [
       "1"
      ]
     },
     "execution_count": 37,
     "metadata": {},
     "output_type": "execute_result"
    }
   ],
   "source": [
    "# 13. How many students have 3 pets?\n",
    "\n",
    "three_pets = 0\n",
    "\n",
    "for stud in students:\n",
    "    if len(stud['pets']) == 3:\n",
    "        three_pets += 1\n",
    "\n",
    "three_pets"
   ]
  },
  {
   "cell_type": "code",
   "execution_count": 38,
   "id": "3407aea9",
   "metadata": {},
   "outputs": [
    {
     "data": {
      "text/plain": [
       "82.125"
      ]
     },
     "execution_count": 38,
     "metadata": {},
     "output_type": "execute_result"
    }
   ],
   "source": [
    "# 14. What is the average grade for students with 0 pets?\n",
    "\n",
    "grade_0_pets = []\n",
    "\n",
    "for stud in students:\n",
    "    if len(stud['pets']) == 0:\n",
    "        grade_0_pets.append((sum(stud['grades']))/len(stud['grades']))\n",
    "\n",
    "sum(grade_0_pets) / len(grade_0_pets)"
   ]
  },
  {
   "cell_type": "code",
   "execution_count": 40,
   "id": "30e533ae",
   "metadata": {},
   "outputs": [
    {
     "name": "stdout",
     "output_type": "stream",
     "text": [
      "Data Science Average Grade: 84.68\n",
      "Web Development Average Grade: 81.18\n"
     ]
    }
   ],
   "source": [
    "# 15. What is the average grade for web development students? data science students?\n",
    "\n",
    "ds_avg_grades = []\n",
    "wd_avg_grades = []\n",
    "\n",
    "for stud in students:\n",
    "    if stud['course'] == 'web development':\n",
    "        wd_avg_grades.append((sum(stud['grades']))/len(stud['grades']))\n",
    "    if stud['course'] == 'data science':\n",
    "        ds_avg_grades.append((sum(stud['grades']))/len(stud['grades']))\n",
    "\n",
    "print('Data Science Average Grade:', round((sum(ds_avg_grades) / len(ds_avg_grades)),2))\n",
    "print('Web Development Average Grade:', round((sum(wd_avg_grades) / len(wd_avg_grades)),2))"
   ]
  },
  {
   "cell_type": "code",
   "execution_count": 45,
   "id": "ac59cec7",
   "metadata": {},
   "outputs": [
    {
     "name": "stdout",
     "output_type": "stream",
     "text": [
      "[[73, 66, 83, 92], [78, 98, 85, 65], [76, 70, 96, 81], [69, 94, 89, 86], [70, 92, 65, 99]]\n",
      "Average grade range is 65 - 99\n"
     ]
    }
   ],
   "source": [
    "# 16. What is the average grade range (i.e. highest grade - lowest grade) for dark coffee drinkers?\n",
    "\n",
    "import numpy as np\n",
    "\n",
    "dc_drinker_grades = []\n",
    "\n",
    "for stud in students:\n",
    "    if stud['coffee_preference'] == 'dark':\n",
    "        dc_drinker_grades.append(stud['grades'])\n",
    "\n",
    "print(dc_drinker_grades)\n",
    "print('Average grade range is', np.min(dc_drinker_grades), '-',  np.max(dc_drinker_grades))"
   ]
  },
  {
   "cell_type": "code",
   "execution_count": 48,
   "id": "c0b89e21",
   "metadata": {},
   "outputs": [
    {
     "data": {
      "text/plain": [
       "1.17"
      ]
     },
     "execution_count": 48,
     "metadata": {},
     "output_type": "execute_result"
    }
   ],
   "source": [
    "# 17. What is the average number of pets for medium coffee drinkers?\n",
    "\n",
    "mc_num_of_pets = []\n",
    "\n",
    "for stud in students:\n",
    "    if stud['coffee_preference'] == 'medium':\n",
    "        mc_num_of_pets.append(len(stud['pets']))\n",
    "\n",
    "avg_pet_medium = round((sum(mc_num_of_pets)/len(mc_num_of_pets)),2)\n",
    "avg_pet_medium"
   ]
  },
  {
   "cell_type": "code",
   "execution_count": 51,
   "id": "8c0c124e",
   "metadata": {},
   "outputs": [
    {
     "data": {
      "text/plain": [
       "'horse'"
      ]
     },
     "execution_count": 51,
     "metadata": {},
     "output_type": "execute_result"
    }
   ],
   "source": [
    "# 18. What is the most common type of pet for web development students?\n",
    "\n",
    "wd_pets = []\n",
    "\n",
    "for stud in students:\n",
    "    if stud['course'] == 'web development' and len(stud['pets']) > 0:\n",
    "        for pet in stud['pets']:\n",
    "            wd_pets.append(pet['species'])\n",
    "\n",
    "max(wd_pets, key=wd_pets.count)"
   ]
  },
  {
   "cell_type": "code",
   "execution_count": 67,
   "id": "044c2a36",
   "metadata": {},
   "outputs": [
    {
     "data": {
      "text/plain": [
       "13.64"
      ]
     },
     "execution_count": 67,
     "metadata": {},
     "output_type": "execute_result"
    }
   ],
   "source": [
    "# 19. What is the average name length?\n",
    "\n",
    "names = [stud['student'] for stud in students]\n",
    "\n",
    "name_length = [len(name) for name in names]\n",
    "\n",
    "avg_name_length = round((sum(name_length) / len(name_length)),2)\n",
    "avg_name_length"
   ]
  },
  {
   "cell_type": "code",
   "execution_count": 70,
   "id": "7824cb0f",
   "metadata": {},
   "outputs": [
    {
     "data": {
      "text/plain": [
       "8"
      ]
     },
     "execution_count": 70,
     "metadata": {},
     "output_type": "execute_result"
    }
   ],
   "source": [
    "# 20. What is the highest pet age for light coffee drinkers?\n",
    "\n",
    "lc_pet_ages = []\n",
    "\n",
    "for stud in students:\n",
    "    if stud['coffee_preference'] == 'light':\n",
    "        for pet in stud['pets']:\n",
    "            lc_pet_ages.append(pet['age'])\n",
    "\n",
    "max(lc_pet_ages)"
   ]
  },
  {
   "cell_type": "code",
   "execution_count": 2,
   "id": "7a4e0b44",
   "metadata": {},
   "outputs": [],
   "source": [
    "students = [\n",
    "    {\n",
    "        \"id\": \"100001\",\n",
    "        \"student\": \"Ada Lovelace\",\n",
    "        \"coffee_preference\": \"light\",\n",
    "        \"course\": \"web development\",\n",
    "        \"grades\": [70, 91, 82, 71],\n",
    "        \"pets\": [{\"species\": \"horse\", \"age\": 8}],\n",
    "    },\n",
    "    {\n",
    "        \"id\": \"100002\",\n",
    "        \"student\": \"Thomas Bayes\",\n",
    "        \"coffee_preference\": \"medium\",\n",
    "        \"course\": \"data science\",\n",
    "        \"grades\": [75, 73, 86, 100],\n",
    "        \"pets\": [],\n",
    "    },\n",
    "    {\n",
    "        \"id\": \"100003\",\n",
    "        \"student\": \"Marie Curie\",\n",
    "        \"coffee_preference\": \"light\",\n",
    "        \"course\": \"web development\",\n",
    "        \"grades\": [70, 89, 69, 65],\n",
    "        \"pets\": [{\"species\": \"cat\", \"age\": 0}],\n",
    "    },\n",
    "    {\n",
    "        \"id\": \"100004\",\n",
    "        \"student\": \"Grace Hopper\",\n",
    "        \"coffee_preference\": \"dark\",\n",
    "        \"course\": \"data science\",\n",
    "        \"grades\": [73, 66, 83, 92],\n",
    "        \"pets\": [{\"species\": \"dog\", \"age\": 4}, {\"species\": \"cat\", \"age\": 4}],\n",
    "    },\n",
    "    {\n",
    "        \"id\": \"100005\",\n",
    "        \"student\": \"Alan Turing\",\n",
    "        \"coffee_preference\": \"dark\",\n",
    "        \"course\": \"web development\",\n",
    "        \"grades\": [78, 98, 85, 65],\n",
    "        \"pets\": [\n",
    "            {\"species\": \"horse\", \"age\": 6},\n",
    "            {\"species\": \"horse\", \"age\": 7},\n",
    "            {\"species\": \"dog\", \"age\": 5},\n",
    "        ],\n",
    "    },\n",
    "    {\n",
    "        \"id\": \"100006\",\n",
    "        \"student\": \"Rosalind Franklin\",\n",
    "        \"coffee_preference\": \"dark\",\n",
    "        \"course\": \"data science\",\n",
    "        \"grades\": [76, 70, 96, 81],\n",
    "        \"pets\": [],\n",
    "    },\n",
    "    {\n",
    "        \"id\": \"100007\",\n",
    "        \"student\": \"Elizabeth Blackwell\",\n",
    "        \"coffee_preference\": \"dark\",\n",
    "        \"course\": \"web development\",\n",
    "        \"grades\": [69, 94, 89, 86],\n",
    "        \"pets\": [{\"species\": \"cat\", \"age\": 10}],\n",
    "    },\n",
    "    {\n",
    "        \"id\": \"100008\",\n",
    "        \"student\": \"Rene Descartes\",\n",
    "        \"coffee_preference\": \"medium\",\n",
    "        \"course\": \"data science\",\n",
    "        \"grades\": [87, 79, 90, 99],\n",
    "        \"pets\": [{\"species\": \"cat\", \"age\": 10}, {\"species\": \"cat\", \"age\": 8}],\n",
    "    },\n",
    "    {\n",
    "        \"id\": \"100009\",\n",
    "        \"student\": \"Ahmed Zewail\",\n",
    "        \"coffee_preference\": \"medium\",\n",
    "        \"course\": \"data science\",\n",
    "        \"grades\": [74, 99, 93, 89],\n",
    "        \"pets\": [{\"species\": \"cat\", \"age\": 0}, {\"species\": \"cat\", \"age\": 0}],\n",
    "    },\n",
    "    {\n",
    "        \"id\": \"100010\",\n",
    "        \"student\": \"Chien-Shiung Wu\",\n",
    "        \"coffee_preference\": \"medium\",\n",
    "        \"course\": \"web development\",\n",
    "        \"grades\": [82, 92, 91, 65],\n",
    "        \"pets\": [{\"species\": \"cat\", \"age\": 8}],\n",
    "    },\n",
    "    {\n",
    "        \"id\": \"100011\",\n",
    "        \"student\": \"William Sanford Nye\",\n",
    "        \"coffee_preference\": \"dark\",\n",
    "        \"course\": \"data science\",\n",
    "        \"grades\": [70, 92, 65, 99],\n",
    "        \"pets\": [{\"species\": \"cat\", \"age\": 8}, {\"species\": \"cat\", \"age\": 5}],\n",
    "    },\n",
    "    {\n",
    "        \"id\": \"100012\",\n",
    "        \"student\": \"Carl Sagan\",\n",
    "        \"coffee_preference\": \"medium\",\n",
    "        \"course\": \"data science\",\n",
    "        \"grades\": [100, 86, 91, 87],\n",
    "        \"pets\": [{\"species\": \"cat\", \"age\": 10}],\n",
    "    },\n",
    "    {\n",
    "        \"id\": \"100013\",\n",
    "        \"student\": \"Jane Goodall\",\n",
    "        \"coffee_preference\": \"light\",\n",
    "        \"course\": \"web development\",\n",
    "        \"grades\": [80, 70, 68, 98],\n",
    "        \"pets\": [{\"species\": \"horse\", \"age\": 4}],\n",
    "    },\n",
    "    {\n",
    "        \"id\": \"100014\",\n",
    "        \"student\": \"Richard Feynman\",\n",
    "        \"coffee_preference\": \"medium\",\n",
    "        \"course\": \"web development\",\n",
    "        \"grades\": [73, 99, 86, 98],\n",
    "        \"pets\": [{\"species\": \"dog\", \"age\": 6}],\n",
    "    },\n",
    "]"
   ]
  },
  {
   "cell_type": "code",
   "execution_count": null,
   "id": "c4d165d1",
   "metadata": {},
   "outputs": [],
   "source": []
  }
 ],
 "metadata": {
  "kernelspec": {
   "display_name": "Python 3 (ipykernel)",
   "language": "python",
   "name": "python3"
  },
  "language_info": {
   "codemirror_mode": {
    "name": "ipython",
    "version": 3
   },
   "file_extension": ".py",
   "mimetype": "text/x-python",
   "name": "python",
   "nbconvert_exporter": "python",
   "pygments_lexer": "ipython3",
   "version": "3.9.13"
  }
 },
 "nbformat": 4,
 "nbformat_minor": 5
}
