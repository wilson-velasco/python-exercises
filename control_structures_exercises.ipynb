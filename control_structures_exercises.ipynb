{
 "cells": [
  {
   "cell_type": "markdown",
   "id": "67afcfb4",
   "metadata": {},
   "source": [
    "## Conditional Basics"
   ]
  },
  {
   "cell_type": "code",
   "execution_count": 20,
   "id": "11183cf8",
   "metadata": {},
   "outputs": [
    {
     "name": "stdout",
     "output_type": "stream",
     "text": [
      "What day of the week is it? 35\n",
      "That is not a valid input.\n",
      "What day of the week is it? plurple\n",
      "That is not a valid input.\n",
      "What day of the week is it? frDay\n",
      "That is not a valid input.\n",
      "What day of the week is it? Friday\n",
      "Whew, at least it's not Monday!\n"
     ]
    }
   ],
   "source": [
    "# a. Prompt the user for a day of the week, print out whether the day is Monday or not\n",
    "\n",
    "day_of_week = str(input('What day of the week is it? ')).lower()\n",
    "\n",
    "days = ['monday', 'tuesday', 'wednesday', 'thursday', 'friday', 'saturday', 'sunday']\n",
    "\n",
    "while day_of_week not in days:\n",
    "    print('That is not a valid input.')\n",
    "    day_of_week = str(input('What day of the week is it? ')).lower()\n",
    "\n",
    "if day_of_week == 'monday':\n",
    "    print(\"I hate Mondays!\")\n",
    "else:\n",
    "    print(\"Whew, at least it's not Monday!\")"
   ]
  },
  {
   "cell_type": "code",
   "execution_count": 22,
   "id": "690f99d8",
   "metadata": {},
   "outputs": [
    {
     "name": "stdout",
     "output_type": "stream",
     "text": [
      "What day of the week is it? sunday\n",
      "Kick back. Relax. Open a Bud Lite, man.\n"
     ]
    }
   ],
   "source": [
    "# b. Prompt the user for a day of the week, print out whether the day is a weekday or a weekend\n",
    "\n",
    "day_of_week = str(input('What day of the week is it? ')).lower()\n",
    "\n",
    "days = ['monday', 'tuesday', 'wednesday', 'thursday', 'friday', 'saturday', 'sunday']\n",
    "weekdays = ['monday', 'tuesday', 'wednesday', 'thursday', 'friday']\n",
    "weekend = ['saturday', 'sunday']\n",
    "\n",
    "while day_of_week not in days:\n",
    "    print('That is not a valid input.')\n",
    "    day_of_week = str(input('What day of the week is it? ')).lower()\n",
    "\n",
    "if day_of_week in weekdays:\n",
    "    print('KEEP WORKING!')\n",
    "else:\n",
    "    print('Kick back. Relax. Open a Bud Lite, man.')"
   ]
  },
  {
   "cell_type": "code",
   "execution_count": 26,
   "id": "5a1b892f",
   "metadata": {},
   "outputs": [
    {
     "name": "stdout",
     "output_type": "stream",
     "text": [
      "What is your hourly rate? 40\n",
      "How many hours did you work this week? 50\n"
     ]
    },
    {
     "data": {
      "text/plain": [
       "2200.0"
      ]
     },
     "execution_count": 26,
     "metadata": {},
     "output_type": "execute_result"
    }
   ],
   "source": [
    "# c. Calculate a weekly paycheck, accounting for overtime pay. Create variables and make up values for:\n",
    "\n",
    "#  - The number of hours worked in one week\n",
    "#  - The hourly rate\n",
    "\n",
    "hourly_rate = int(input('What is your hourly rate? '))\n",
    "num_hours_worked = int(input('How many hours did you work this week? '))\n",
    "\n",
    "if num_hours_worked <= 40:\n",
    "    weekly_paycheck = num_hours_worked * hourly_rate\n",
    "elif num_hours_worked > 40:\n",
    "    weekly_paycheck = (40 * hourly_rate) + (num_hours_worked - 40)*(hourly_rate * 1.5)\n",
    "    \n",
    "weekly_paycheck"
   ]
  },
  {
   "cell_type": "markdown",
   "id": "5db5696e",
   "metadata": {},
   "source": [
    "## Loop Basics"
   ]
  },
  {
   "cell_type": "markdown",
   "id": "a91791f9",
   "metadata": {},
   "source": [
    "### While"
   ]
  },
  {
   "cell_type": "code",
   "execution_count": 35,
   "id": "c7c88fcb",
   "metadata": {},
   "outputs": [
    {
     "name": "stdout",
     "output_type": "stream",
     "text": [
      "5\n",
      "6\n",
      "7\n",
      "8\n",
      "9\n",
      "10\n",
      "11\n",
      "12\n",
      "13\n",
      "14\n",
      "15\n"
     ]
    }
   ],
   "source": [
    "# i. Create an integer variable i with a value of 5. Create a while loop that runs so long as i is less than or equal to 15. \n",
    "# Each loop iteration, output the current value of i, then increment i by one.\n",
    "\n",
    "i = 5\n",
    "\n",
    "while i <= 15:\n",
    "    print(i)\n",
    "    i = i + 1\n"
   ]
  },
  {
   "cell_type": "code",
   "execution_count": 37,
   "id": "1b9584b9",
   "metadata": {},
   "outputs": [
    {
     "name": "stdout",
     "output_type": "stream",
     "text": [
      "0\n",
      "2\n",
      "4\n",
      "6\n",
      "8\n",
      "10\n",
      "12\n",
      "14\n",
      "16\n",
      "18\n",
      "20\n",
      "22\n",
      "24\n",
      "26\n",
      "28\n",
      "30\n",
      "32\n",
      "34\n",
      "36\n",
      "38\n",
      "40\n",
      "42\n",
      "44\n",
      "46\n",
      "48\n",
      "50\n",
      "52\n",
      "54\n",
      "56\n",
      "58\n",
      "60\n",
      "62\n",
      "64\n",
      "66\n",
      "68\n",
      "70\n",
      "72\n",
      "74\n",
      "76\n",
      "78\n",
      "80\n",
      "82\n",
      "84\n",
      "86\n",
      "88\n",
      "90\n",
      "92\n",
      "94\n",
      "96\n",
      "98\n",
      "100\n"
     ]
    }
   ],
   "source": [
    "# ii. Create a while loop that will count by 2's starting with 0 and ending at 100. Follow each number with a new line.\n",
    "\n",
    "x = 0\n",
    "\n",
    "while x <= 100:\n",
    "    print(x)\n",
    "    x = x + 2"
   ]
  },
  {
   "cell_type": "code",
   "execution_count": 27,
   "id": "8dd65b51",
   "metadata": {},
   "outputs": [
    {
     "name": "stdout",
     "output_type": "stream",
     "text": [
      "2\n",
      "4\n",
      "16\n",
      "256\n",
      "65536\n"
     ]
    }
   ],
   "source": [
    "# iii. Create a while loop that starts at 2, and displays the number squared on each line while the number is \n",
    "# less than 1,000,000. Output should equal:\n",
    "\n",
    "y = 2\n",
    "\n",
    "while y <= 1_000_000:\n",
    "    print(y)\n",
    "    y = y ** 2\n"
   ]
  },
  {
   "cell_type": "code",
   "execution_count": 148,
   "id": "f96eb981",
   "metadata": {},
   "outputs": [
    {
     "name": "stdout",
     "output_type": "stream",
     "text": [
      "100\n",
      "95\n",
      "90\n",
      "85\n",
      "80\n",
      "75\n",
      "70\n",
      "65\n",
      "60\n",
      "55\n",
      "50\n",
      "45\n",
      "40\n",
      "35\n",
      "30\n",
      "25\n",
      "20\n",
      "15\n",
      "10\n",
      "5\n"
     ]
    }
   ],
   "source": [
    "# iv. Write a while loop that uses print to create the output shown below. [100, 95, 90, 85, ... 15, 10, 5]\n",
    "\n",
    "z = 100\n",
    "\n",
    "while z >= 5:\n",
    "    print(z)\n",
    "    z = z - 5"
   ]
  },
  {
   "cell_type": "markdown",
   "id": "611bba27",
   "metadata": {},
   "source": [
    "### For Loops"
   ]
  },
  {
   "cell_type": "code",
   "execution_count": 149,
   "id": "da283050",
   "metadata": {},
   "outputs": [
    {
     "name": "stdout",
     "output_type": "stream",
     "text": [
      "Please enter an integer: 5\n",
      "5 x 1 = 5\n",
      "5 x 2 = 10\n",
      "5 x 3 = 15\n",
      "5 x 4 = 20\n",
      "5 x 5 = 25\n",
      "5 x 6 = 30\n",
      "5 x 7 = 35\n",
      "5 x 8 = 40\n",
      "5 x 9 = 45\n",
      "5 x 10 = 50\n"
     ]
    }
   ],
   "source": [
    "# i. Write some code using a for loop that prompts the user for a number, \n",
    "# then shows a multiplication table up through 10 for that number.\n",
    "\n",
    "x = int(input(\"Please enter an integer: \"))\n",
    "\n",
    "for number in range(1,11):\n",
    "    print(str(x) + ' x ' + str(number) + ' = ' + str(x*number))\n",
    "    \n",
    "    #alternative to the long print statement is using f.. I.e. print(f'{x} x {number} = {x*number}')"
   ]
  },
  {
   "cell_type": "code",
   "execution_count": 39,
   "id": "998a2fd2",
   "metadata": {},
   "outputs": [
    {
     "name": "stdout",
     "output_type": "stream",
     "text": [
      "Please enter an integer: 11\n",
      "\n",
      "1\n",
      "22\n",
      "333\n",
      "4444\n",
      "55555\n",
      "666666\n",
      "7777777\n",
      "88888888\n",
      "999999999\n",
      "10101010101010101010\n",
      "1111111111111111111111\n"
     ]
    }
   ],
   "source": [
    "# 11. Create a for loop that uses print to create the output shown below. 1, 22, 333, 4444, 55555... 999999999\n",
    "\n",
    "num_input = int(input('Please enter an integer: '))\n",
    "\n",
    "for number in range(num_input+1):\n",
    "    number = str(number)*number\n",
    "    print(number)"
   ]
  },
  {
   "cell_type": "markdown",
   "id": "bafc4fa1",
   "metadata": {},
   "source": [
    "### Break and Continue"
   ]
  },
  {
   "cell_type": "code",
   "execution_count": 143,
   "id": "009d0d9f",
   "metadata": {},
   "outputs": [
    {
     "name": "stdout",
     "output_type": "stream",
     "text": [
      "Please enter a positive integer: 3\n",
      "3\n",
      "2\n",
      "1\n"
     ]
    }
   ],
   "source": [
    "# i. Write a program that prompts the user for a positive integer. \n",
    "# Next write a loop that prints out the numbers from the number the user entered down to 1.\n",
    "\n",
    "x = int(input('Please enter a positive integer: '))\n",
    "\n",
    "while x < 0:\n",
    "    print('That is not a valid input.')\n",
    "    x = int(input('Please enter a positive integer: '))\n",
    "\n",
    "for number in range(x):\n",
    "    print(x)\n",
    "    x = x-1\n",
    "    # Could have also used range(x,0,-1) and then just print(number)"
   ]
  },
  {
   "cell_type": "code",
   "execution_count": 150,
   "id": "0ce5fb5d",
   "metadata": {},
   "outputs": [
    {
     "name": "stdout",
     "output_type": "stream",
     "text": [
      "Enter a number that is a positive integer: 8\n",
      "0\n",
      "1\n",
      "2\n",
      "3\n",
      "4\n",
      "5\n",
      "6\n",
      "7\n",
      "8\n"
     ]
    }
   ],
   "source": [
    "# ii. The input function can be used to prompt for input and use that input in your python code. Prompt the user \n",
    "# to enter a positive number and write a loop that counts from 0 to that number. \n",
    "# (Hints: note that the input function returns a string, so you'll need to convert this to a numeric type.)\n",
    "\n",
    "\n",
    "in_num = int(input(\"Enter a number that is a positive integer: \")) \n",
    "\n",
    "while in_num < 0:\n",
    "    print('I SAID what I SAID.')\n",
    "    in_num = int(input(\"Enter a number that is a positive integer: \")) \n",
    "    \n",
    "for x in range(in_num + 1):\n",
    "    print(x)\n",
    "    x = x + 1\n"
   ]
  },
  {
   "cell_type": "code",
   "execution_count": 18,
   "id": "88c28d4f",
   "metadata": {},
   "outputs": [
    {
     "name": "stdout",
     "output_type": "stream",
     "text": [
      "Enter an odd number between 1 and 50: sadf\n",
      "This is not a number.\n",
      "Enter an odd number between 1 and 50: 59\n",
      "This is not a valid number.\n",
      "Enter an odd number between 1 and 50: -33\n",
      "This is not a number.\n",
      "Enter an odd number between 1 and 50: 33\n",
      "Number to skip is: 33\n",
      "\n",
      "Here is an odd number:  1\n",
      "Here is an odd number:  3\n",
      "Here is an odd number:  5\n",
      "Here is an odd number:  7\n",
      "Here is an odd number:  9\n",
      "Here is an odd number:  11\n",
      "Here is an odd number:  13\n",
      "Here is an odd number:  15\n",
      "Here is an odd number:  17\n",
      "Here is an odd number:  19\n",
      "Here is an odd number:  21\n",
      "Here is an odd number:  23\n",
      "Here is an odd number:  25\n",
      "Here is an odd number:  27\n",
      "Here is an odd number:  29\n",
      "Here is an odd number:  31\n",
      "Yikes! Skipping number:  33\n",
      "Here is an odd number:  35\n",
      "Here is an odd number:  37\n",
      "Here is an odd number:  39\n",
      "Here is an odd number:  41\n",
      "Here is an odd number:  43\n",
      "Here is an odd number:  45\n",
      "Here is an odd number:  47\n",
      "Here is an odd number:  49\n"
     ]
    }
   ],
   "source": [
    "# iii. Prompt the user for an odd number between 1 and 50. Use a loop and a break statement to continue \n",
    "# prompting the user if they enter invalid input. (Hint: use the isdigit method on strings to determine this). \n",
    "# Use a loop and the continue statement to output all the odd numbers between 1 and 50, \n",
    "# except for the number the user entered.\n",
    "\n",
    "\n",
    "\n",
    "while True:\n",
    "    is_odd_num_1_50 = input('Enter an odd number between 1 and 50: ')\n",
    "    \n",
    "    if is_odd_num_1_50.isdigit() == False:\n",
    "        print('This is not a number.')\n",
    "        continue\n",
    "        \n",
    "    is_odd_num_1_50 = int(is_odd_num_1_50)\n",
    "    \n",
    "    if is_odd_num_1_50 % 2 == 0 or (is_odd_num_1_50 <= 1 or is_odd_num_1_50 >= 50):\n",
    "        print('This is not a valid number.')\n",
    "        continue\n",
    "    break\n",
    "\n",
    "print('Number to skip is: ' + str(is_odd_num_1_50))\n",
    "print()\n",
    "\n",
    "for t in range(50):\n",
    "    if t % 2 == 0:\n",
    "        continue\n",
    "    elif t == is_odd_num_1_50:\n",
    "        print('Yikes! Skipping number: ', str(t))\n",
    "    elif t % 2 != 0:\n",
    "        print('Here is an odd number: ', str(t))"
   ]
  },
  {
   "cell_type": "markdown",
   "id": "da69972c",
   "metadata": {},
   "source": [
    "## Fizzbuzz"
   ]
  },
  {
   "cell_type": "code",
   "execution_count": 1,
   "id": "94e4cca2",
   "metadata": {},
   "outputs": [
    {
     "name": "stdout",
     "output_type": "stream",
     "text": [
      "1\n",
      "2\n",
      "Fizz\n",
      "4\n",
      "Buzz\n",
      "Fizz\n",
      "7\n",
      "8\n",
      "Fizz\n",
      "Buzz\n",
      "11\n",
      "Fizz\n",
      "13\n",
      "14\n",
      "Fizzbuzz\n",
      "16\n",
      "17\n",
      "Fizz\n",
      "19\n",
      "Buzz\n",
      "Fizz\n",
      "22\n",
      "23\n",
      "Fizz\n",
      "Buzz\n",
      "26\n",
      "Fizz\n",
      "28\n",
      "29\n",
      "Fizzbuzz\n",
      "31\n",
      "32\n",
      "Fizz\n",
      "34\n",
      "Buzz\n",
      "Fizz\n",
      "37\n",
      "38\n",
      "Fizz\n",
      "Buzz\n",
      "41\n",
      "Fizz\n",
      "43\n",
      "44\n",
      "Fizzbuzz\n",
      "46\n",
      "47\n",
      "Fizz\n",
      "49\n",
      "Buzz\n",
      "Fizz\n",
      "52\n",
      "53\n",
      "Fizz\n",
      "Buzz\n",
      "56\n",
      "Fizz\n",
      "58\n",
      "59\n",
      "Fizzbuzz\n",
      "61\n",
      "62\n",
      "Fizz\n",
      "64\n",
      "Buzz\n",
      "Fizz\n",
      "67\n",
      "68\n",
      "Fizz\n",
      "Buzz\n",
      "71\n",
      "Fizz\n",
      "73\n",
      "74\n",
      "Fizzbuzz\n",
      "76\n",
      "77\n",
      "Fizz\n",
      "79\n",
      "Buzz\n",
      "Fizz\n",
      "82\n",
      "83\n",
      "Fizz\n",
      "Buzz\n",
      "86\n",
      "Fizz\n",
      "88\n",
      "89\n",
      "Fizzbuzz\n",
      "91\n",
      "92\n",
      "Fizz\n",
      "94\n",
      "Buzz\n",
      "Fizz\n",
      "97\n",
      "98\n",
      "Fizz\n",
      "Buzz\n"
     ]
    }
   ],
   "source": [
    "# Write a program that prints the numbers from 1 to 100.\n",
    "# For multiples of three print \"Fizz\" instead of the number\n",
    "# For the multiples of five print \"Buzz\".\n",
    "# For numbers which are multiples of both three and five print \"FizzBuzz\".\n",
    "\n",
    "for x in range(1,101):\n",
    "    if x % 3 == 0 and x % 5 == 0:\n",
    "        print('Fizzbuzz')\n",
    "    elif x % 3 == 0:\n",
    "        print('Fizz')\n",
    "    elif x % 5 == 0:\n",
    "        print('Buzz')\n",
    "    else:\n",
    "        print(x)"
   ]
  },
  {
   "cell_type": "markdown",
   "id": "2741c1ee",
   "metadata": {},
   "source": [
    "## Display a Table of Powers"
   ]
  },
  {
   "cell_type": "code",
   "execution_count": 16,
   "id": "2dabb86a",
   "metadata": {},
   "outputs": [
    {
     "name": "stdout",
     "output_type": "stream",
     "text": [
      "Please enter an integer: 4\n",
      "\n",
      "Here is your table!\n",
      "\n",
      "number\tsquared\tcubed\n",
      "1\t1\t1\n",
      "2\t4\t8\n",
      "3\t9\t27\n",
      "4\t16\t64\n",
      "Do you want to continue? (Y/N) n\n",
      "Ok, take a break.\n"
     ]
    }
   ],
   "source": [
    "# Prompt the user to enter an integer\n",
    "# Display a table of squares and cubes from 1 to the value entered\n",
    "# Ask if the user wants to continue\n",
    "# Assume that the user will enter valid data\n",
    "# Only continue if the user agrees to\n",
    "\n",
    "\n",
    "conti = 'y'   \n",
    "\n",
    "while conti == 'y':\n",
    "    integer = int(input('Please enter an integer: '))\n",
    "    print()\n",
    "    print('Here is your table!')\n",
    "    print()\n",
    "    print(f'number\\tsquared\\tcubed')\n",
    "    for x in range(integer+1):\n",
    "        if x == 0:\n",
    "            continue\n",
    "        print(f'{str(x)}\\t{str(x**2)}\\t{str(x**3)}')\n",
    "    conti = str(input('Do you want to continue? (Y/N) ')).lower()\n",
    "    if conti == 'n':\n",
    "        print('Ok, take a break.')"
   ]
  },
  {
   "cell_type": "code",
   "execution_count": 140,
   "id": "c55b77ae",
   "metadata": {},
   "outputs": [
    {
     "name": "stdout",
     "output_type": "stream",
     "text": [
      "Please enter a numerical grade 0-100: 50\n",
      "F\n",
      "Do you want to continue? (Y/N) y\n",
      "Please enter a numerical grade 0-100: 89\n",
      "A\n",
      "Do you want to continue? (Y/N) 13\n"
     ]
    }
   ],
   "source": [
    "## Convert given number grades into letter grades.\n",
    "\n",
    "\n",
    "# # Prompt the user for a numerical grade from 0 to 100\n",
    "# Display the corresponding letter grade\n",
    "# Prompt the user to continue\n",
    "# Assume that the user will enter valid integers for the grades\n",
    "# The application should only continue if the user agrees to\n",
    "# Grade Ranges:\n",
    "\n",
    "# A : 100 - 88\n",
    "# B : 87 - 80\n",
    "# # C : 79 - 67\n",
    "# # D : 66 - 60\n",
    "# # F : 59 - 0\n",
    "\n",
    "\n",
    "cont = 'y'\n",
    "\n",
    "while cont == 'y':\n",
    "    num_grade = int(input('Please enter a numerical grade 0-100: '))\n",
    "    while num_grade not in range(101):\n",
    "        print('Invalid input.')\n",
    "        num_grade = int(input('Please enter a numerical grade 0-100: '))\n",
    "    \n",
    "    if 88 <= num_grade <= 100:\n",
    "        print('A')\n",
    "    elif 80 <= num_grade <= 87:\n",
    "        print('B')\n",
    "    elif 67 <= num_grade <= 79:\n",
    "        print('C')\n",
    "    elif 60 <= num_grade <= 66:\n",
    "        print('D')\n",
    "    elif num_grade <= 59:\n",
    "        print('F')\n",
    "    cont = str(input('Do you want to continue? (Y/N) ')).lower()\n",
    "    if cont == 'n':\n",
    "        print('Ok, take a break.')\n"
   ]
  },
  {
   "cell_type": "code",
   "execution_count": 25,
   "id": "2141fa0d",
   "metadata": {},
   "outputs": [
    {
     "name": "stdout",
     "output_type": "stream",
     "text": [
      "{'title': 'The Brothers Karamazov', 'author': 'Fyodor Dostoevsky', 'genre': 'Classics'}\n",
      "{'title': 'One Hundred Years of Solitude', 'author': 'Gabriel Marquez', 'genre': 'Classics'}\n",
      "{'title': 'Everything Is Illuminated', 'author': 'Jonathan Safran Foer', 'genre': 'Fiction'}\n",
      "{'title': 'And Then There Were None', 'author': 'Agatha Christie', 'genre': 'Mystery'}\n",
      "{'title': 'Me Talk Pretty One Day', 'author': 'David Sedaris', 'genre': 'Comedy'}\n",
      "{'title': 'The Kite Runner', 'author': 'Khaled Hosseini', 'genre': 'Fiction'}\n",
      "{'title': 'Working Girls', 'author': 'Trixie Mattel and Katya Zamolodchikova', 'genre': 'Comedy'}\n",
      "{'title': 'Animorphs', 'author': 'Katherine Applegate', 'genre': 'Fantasy'}\n",
      "{'title': 'Lord of the Rings', 'author': 'J.R.R. Tolkien', 'genre': 'Fantasy'}\n",
      "{'title': '1984', 'author': 'George Orwell', 'genre': 'Fiction'}\n",
      "{'title': 'Sherlock Holmes', 'author': 'Arthur Conan Doyle', 'genre': 'Mystery'}\n",
      "{'title': 'War and Peace', 'author': 'Leo Tolstoy', 'genre': 'Classics'}\n",
      "\n",
      "What genre would you like to read? (Classics, Fiction, Mystery, Comedy, Fantasy): Comedy\n",
      "\n",
      "Here is a list of book recommendations:\n",
      "\n",
      "Me Talk Pretty One Day\n",
      "Working Girls\n"
     ]
    }
   ],
   "source": [
    "# 6. Create a list of dictionaries where each dictionary represents a book that you have read. \n",
    "# Each dictionary in the list should have the keys title, author, and genre. \n",
    "# Loop through the list and print out information about each book.\n",
    "\n",
    "books_i_have_read = [\n",
    "    {'title': 'The Brothers Karamazov',\n",
    "    'author': 'Fyodor Dostoevsky',\n",
    "    'genre': 'Classics'},\n",
    "    {'title': 'One Hundred Years of Solitude',\n",
    "     'author': 'Gabriel Marquez',\n",
    "     'genre': 'Classics'},\n",
    "    {'title': 'Everything Is Illuminated',\n",
    "     'author': 'Jonathan Safran Foer',\n",
    "     'genre': 'Fiction'},\n",
    "    {'title': 'And Then There Were None',\n",
    "     'author': 'Agatha Christie',\n",
    "     'genre': 'Mystery'},\n",
    "    {'title': 'Me Talk Pretty One Day',\n",
    "     'author': 'David Sedaris',\n",
    "     'genre': 'Comedy'},\n",
    "    {'title': 'The Kite Runner',\n",
    "     'author': 'Khaled Hosseini',\n",
    "     'genre': 'Fiction'},\n",
    "    {'title': 'Working Girls',\n",
    "     'author': 'Trixie Mattel and Katya Zamolodchikova',\n",
    "     'genre': 'Comedy'},\n",
    "    {'title': 'Animorphs',\n",
    "     'author': 'Katherine Applegate',\n",
    "     'genre': 'Fantasy'},\n",
    "    {'title': 'Lord of the Rings',\n",
    "     'author': 'J.R.R. Tolkien',\n",
    "     'genre': 'Fantasy'},\n",
    "    {'title': '1984',\n",
    "     'author': 'George Orwell',\n",
    "     'genre': 'Fiction'},\n",
    "    {'title': 'Sherlock Holmes',\n",
    "     'author': 'Arthur Conan Doyle',\n",
    "     'genre': 'Mystery'},\n",
    "    {'title': 'War and Peace',\n",
    "     'author': 'Leo Tolstoy',\n",
    "     'genre': 'Classics'}\n",
    "    ]\n",
    "\n",
    "for book in books_i_have_read:\n",
    "    print(book)\n",
    "\n",
    "print()\n",
    "\n",
    "# a. Prompt the user to enter a genre, then loop through your books list and print out the titles \n",
    "# of all the books in that genre.\n",
    "\n",
    "book_genre = str(input('What genre would you like to read? (Classics, Fiction, Mystery, Comedy, Fantasy): '))\n",
    "\n",
    "print()\n",
    "print('Here is a list of book recommendations:')\n",
    "print()\n",
    "\n",
    "for book in books_i_have_read:\n",
    "    if book.get('genre') == book_genre:\n",
    "        print(book.get('title'))\n"
   ]
  },
  {
   "cell_type": "code",
   "execution_count": null,
   "id": "59794621",
   "metadata": {},
   "outputs": [],
   "source": []
  }
 ],
 "metadata": {
  "kernelspec": {
   "display_name": "Python 3 (ipykernel)",
   "language": "python",
   "name": "python3"
  },
  "language_info": {
   "codemirror_mode": {
    "name": "ipython",
    "version": 3
   },
   "file_extension": ".py",
   "mimetype": "text/x-python",
   "name": "python",
   "nbconvert_exporter": "python",
   "pygments_lexer": "ipython3",
   "version": "3.9.13"
  }
 },
 "nbformat": 4,
 "nbformat_minor": 5
}
