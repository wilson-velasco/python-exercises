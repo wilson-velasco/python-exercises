{
 "cells": [
  {
   "cell_type": "code",
   "execution_count": 154,
   "id": "66dd5b08",
   "metadata": {},
   "outputs": [],
   "source": [
    "# 1. Define a function named is_two. It should accept one input and return True if the passed input is \n",
    "# either the number or the string 2, False otherwise.\n",
    "\n",
    "def is_two(x):\n",
    "    return x == 2 or x == '2'"
   ]
  },
  {
   "cell_type": "code",
   "execution_count": 158,
   "id": "ddb298e1",
   "metadata": {},
   "outputs": [],
   "source": [
    "# 2. Define a function named is_vowel. It should return True if the passed string is a vowel, False otherwise.\n",
    "\n",
    "def is_vowel(x):\n",
    "    return x.lower() in list('aeiou')"
   ]
  },
  {
   "cell_type": "code",
   "execution_count": 167,
   "id": "37e1a473",
   "metadata": {},
   "outputs": [],
   "source": [
    "# 3. Define a function named is_consonant. It should return True if the passed string is a consonant, False otherwise. Use your is_vowel function to accomplish this.\n",
    "\n",
    "def is_consonant(x):\n",
    "    return not is_vowel(x)"
   ]
  },
  {
   "cell_type": "code",
   "execution_count": 175,
   "id": "b61ac612",
   "metadata": {},
   "outputs": [],
   "source": [
    "# 4. Define a function that accepts a string that is a word. The function should capitalize the first letter \n",
    "# of the word if the word starts with a consonant.\n",
    "\n",
    "def first_letter_capped(word):\n",
    "    if is_consonant(word[0]):\n",
    "        return word.capitalize()\n",
    "    else:\n",
    "        return word"
   ]
  },
  {
   "cell_type": "code",
   "execution_count": 55,
   "id": "61b44244",
   "metadata": {},
   "outputs": [],
   "source": [
    "# 5. Define a function named calculate_tip. It should accept a tip percentage (a number between 0 and 1) \n",
    "# and the bill total, and return the amount to tip.\n",
    "\n",
    "def calculate_tip(bill_percent, bill_total):\n",
    "    return \"Amount to tip: \" + str(bill_percent * bill_total)"
   ]
  },
  {
   "cell_type": "code",
   "execution_count": 48,
   "id": "79947e00",
   "metadata": {},
   "outputs": [],
   "source": [
    "# 6. Define a function named apply_discount. It should accept a original price, and a discount percentage, \n",
    "# and return the price after the discount is applied.\n",
    "\n",
    "def apply_discount(original_price, discount_percent):\n",
    "    final_price = original_price - (original_price * discount_percent)\n",
    "    return final_price\n",
    "    "
   ]
  },
  {
   "cell_type": "code",
   "execution_count": 70,
   "id": "46cd05bd",
   "metadata": {},
   "outputs": [],
   "source": [
    "# 7. Define a function named handle_commas. It should accept a string that is a number that contains commas in it \n",
    "# as input, and return a number as output.\n",
    "\n",
    "def handle_commas(number):\n",
    "    return int(number.replace(',',''))"
   ]
  },
  {
   "cell_type": "code",
   "execution_count": 60,
   "id": "e5153cd3",
   "metadata": {},
   "outputs": [],
   "source": [
    "# 8. Define a function named get_letter_grade. It should accept a number and return the letter grade associated with that number (A-F).\n",
    "\n",
    "def get_letter_grade(num_grade):\n",
    "    if 88 <= num_grade <= 100:\n",
    "        return 'A'\n",
    "    elif 80 <= num_grade <= 87:\n",
    "        return 'B'\n",
    "    elif 67 <= num_grade <= 79:\n",
    "        return 'C'\n",
    "    elif 60 <= num_grade <= 66:\n",
    "        return 'D'\n",
    "    elif num_grade <= 59:\n",
    "        return 'F'\n",
    "    "
   ]
  },
  {
   "cell_type": "code",
   "execution_count": 183,
   "id": "39daeff5",
   "metadata": {},
   "outputs": [],
   "source": [
    "# 9. Define a function named remove_vowels that accepts a string and returns a string with all the vowels removed.\n",
    "\n",
    "def remove_vowel(x):\n",
    "    for char in x:\n",
    "        if is_vowel(char):\n",
    "            x = x.replace(char,'')\n",
    "    return x"
   ]
  },
  {
   "cell_type": "code",
   "execution_count": 192,
   "id": "d299a30b",
   "metadata": {},
   "outputs": [],
   "source": [
    "# 10. Define a function named normalize_name. It should accept a string and return a valid python identifier, that is:\n",
    "#  - anything that is not a valid python identifier should be removed\n",
    "#  - leading and trailing whitespace should be removed\n",
    "#  - everything should be lowercase\n",
    "#  - spaces should be replaced with underscores\n",
    "#    for example:\n",
    "#      - Name will become name\n",
    "#      - First Name will become first_name\n",
    "#      - % Completed will become completed\n",
    "\n",
    "def normalize_name(name):\n",
    "    import re\n",
    "    name = re.sub('[!@#$%^&*.]','', name)\n",
    "    name = name.strip().lower().replace(' ','_').strip('_')\n",
    "    return name"
   ]
  },
  {
   "cell_type": "code",
   "execution_count": 151,
   "id": "7ef457f3",
   "metadata": {},
   "outputs": [],
   "source": [
    "# 11. Write a function named cumulative_sum that accepts a list of numbers and returns a list that is the \n",
    "# cumulative sum of the numbers in the list.\n",
    "\n",
    "#     - cumulative_sum([1, 1, 1]) returns [1, 2, 3]\n",
    "#     - cumulative_sum([1, 2, 3, 4]) returns [1, 3, 6, 10]\n",
    "\n",
    "def cumulative_sum(list_of_nums):\n",
    "    new_list = []\n",
    "    \n",
    "    for num in list_of_nums:\n",
    "        new_list.append(sum(list_of_nums[:num]))\n",
    "                        \n",
    "    return new_list"
   ]
  }
 ],
 "metadata": {
  "kernelspec": {
   "display_name": "Python 3 (ipykernel)",
   "language": "python",
   "name": "python3"
  },
  "language_info": {
   "codemirror_mode": {
    "name": "ipython",
    "version": 3
   },
   "file_extension": ".py",
   "mimetype": "text/x-python",
   "name": "python",
   "nbconvert_exporter": "python",
   "pygments_lexer": "ipython3",
   "version": "3.9.13"
  }
 },
 "nbformat": 4,
 "nbformat_minor": 5
}
